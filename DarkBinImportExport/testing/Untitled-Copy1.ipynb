{
 "cells": [
  {
   "cell_type": "code",
   "execution_count": 1,
   "metadata": {},
   "outputs": [
    {
     "data": {
      "text/plain": [
       "'\\nC:\\\\Spiele\\\\Dark Projekt\\\\MODS\\\\ep\\\\obj\\\\lcbed.bin\\n'"
      ]
     },
     "execution_count": 1,
     "metadata": {},
     "output_type": "execute_result"
    }
   ],
   "source": [
    "\"\"\"\n",
    "C:\\Spiele\\Dark Projekt\\MODS\\ep\\obj\\lcbed.bin\n",
    "\"\"\""
   ]
  },
  {
   "cell_type": "code",
   "execution_count": null,
   "metadata": {},
   "outputs": [],
   "source": []
  },
  {
   "cell_type": "code",
   "execution_count": 1,
   "metadata": {
    "scrolled": true
   },
   "outputs": [
    {
     "name": "stdout",
     "output_type": "stream",
     "text": [
      "6\n",
      "2\n",
      "4\n",
      "2\n",
      "2\n",
      "2\n",
      "2\n",
      "2\n",
      "2\n",
      "2\n",
      "2\n",
      "16\n",
      "16\n",
      "4\n",
      "4\n",
      "1\n",
      "1\n",
      "1\n",
      "1\n",
      "12\n",
      "16\n",
      "16\n",
      "4\n",
      "4\n",
      "4\n",
      "4\n",
      "4\n",
      "4\n",
      "1\n",
      "1\n",
      "1\n",
      "1\n",
      "12\n",
      "4\n",
      "1\n",
      "1\n",
      "1\n",
      "1\n",
      "12\n",
      "12\n",
      "2\n",
      "2\n",
      "4\n",
      "2\n",
      "1\n",
      "1\n",
      "4\n",
      "4\n",
      "4\n",
      "4\n",
      "4\n",
      "4\n",
      "16 <i\n",
      "64\n",
      "16 <fff\n",
      "192\n",
      "4\n",
      "4\n",
      "4\n",
      "2\n",
      "16 <H\n",
      "32\n",
      "16 <fff\n",
      "192\n",
      "16 <f\n",
      "64\n",
      "4\n",
      "4\n",
      "4\n",
      "nTorsos bin_struct([('joint', '<i'), ('parent', '<i'), ('num_fixed_points', '<i'), ('joint_id', (16, '<i')), ('pts', (16, '<fff'))])\n",
      "not def nTorsos <class 'str'>\n",
      "not defined\n",
      "not def not defined <class 'str'>\n",
      "Choose file_path:\n",
      "mat type 0 handle/argb: 0 uv/ipal (0.0, 0)\n",
      "mat type 0 handle/argb: 0 uv/ipal (0.0, 0)\n",
      "mat type 0 handle/argb: 0 uv/ipal (0.0, 0)\n",
      "mat type 0 handle/argb: 0 uv/ipal (0.0, 0)\n",
      "mat type 0 handle/argb: 0 uv/ipal (0.0, 0)\n",
      "mat type 0 handle/argb: 0 uv/ipal (0.0, 0)\n",
      "File version is 4\n"
     ]
    },
    {
     "ename": "ImportError",
     "evalue": "attempted relative import with no known parent package",
     "output_type": "error",
     "traceback": [
      "\u001b[1;31m---------------------------------------------------------------------------\u001b[0m",
      "\u001b[1;31mImportError\u001b[0m                               Traceback (most recent call last)",
      "\u001b[1;32m<ipython-input-1-6e54c303f08d>\u001b[0m in \u001b[0;36m<module>\u001b[1;34m\u001b[0m\n\u001b[0;32m     42\u001b[0m     \u001b[0mbinData\u001b[0m\u001b[1;33m.\u001b[0m\u001b[0mseek\u001b[0m\u001b[1;33m(\u001b[0m\u001b[1;36m0\u001b[0m\u001b[1;33m)\u001b[0m\u001b[1;33m\u001b[0m\u001b[1;33m\u001b[0m\u001b[0m\n\u001b[0;32m     43\u001b[0m     \u001b[1;32mif\u001b[0m \u001b[0mtypeID\u001b[0m \u001b[1;33m==\u001b[0m \u001b[1;34mb'LGMD'\u001b[0m\u001b[1;33m:\u001b[0m\u001b[1;33m\u001b[0m\u001b[1;33m\u001b[0m\u001b[0m\n\u001b[1;32m---> 44\u001b[1;33m         \u001b[0mobject_data\u001b[0m \u001b[1;33m=\u001b[0m \u001b[0mparse_bin\u001b[0m\u001b[1;33m(\u001b[0m\u001b[0mbinData\u001b[0m\u001b[1;33m)\u001b[0m\u001b[1;33m\u001b[0m\u001b[1;33m\u001b[0m\u001b[0m\n\u001b[0m\u001b[0;32m     45\u001b[0m     \u001b[1;32melif\u001b[0m \u001b[0mtypeID\u001b[0m \u001b[1;33m==\u001b[0m \u001b[1;34mb'LGMM'\u001b[0m\u001b[1;33m:\u001b[0m\u001b[1;33m\u001b[0m\u001b[1;33m\u001b[0m\u001b[0m\n\u001b[0;32m     46\u001b[0m         \u001b[0mobject_data\u001b[0m \u001b[1;33m=\u001b[0m \u001b[0mAIMesh\u001b[0m\u001b[1;33m.\u001b[0m\u001b[0mparse_bin\u001b[0m\u001b[1;33m(\u001b[0m\u001b[0mbinData\u001b[0m\u001b[1;33m)\u001b[0m\u001b[1;33m\u001b[0m\u001b[1;33m\u001b[0m\u001b[0m\n",
      "\u001b[1;32mD:\\ProgrammeD\\GitHubDesktop\\Repositories\\Fork-of-Nemyax-Blender-Addon-for-static-DarkEngine-models\\DarkBinImportExport\\testing\\BinNodeExtractor.py\u001b[0m in \u001b[0;36mparse_bin\u001b[1;34m(binData)\u001b[0m\n\u001b[0;32m   1065\u001b[0m     \u001b[0mverts\u001b[0m      \u001b[1;33m=\u001b[0m \u001b[0mprep_verts\u001b[0m\u001b[1;33m(\u001b[0m\u001b[0mbinBytes\u001b[0m\u001b[1;33m[\u001b[0m\u001b[0mvertOffset\u001b[0m\u001b[1;33m:\u001b[0m\u001b[0mlightOffset\u001b[0m\u001b[1;33m]\u001b[0m\u001b[1;33m)\u001b[0m\u001b[1;33m\u001b[0m\u001b[1;33m\u001b[0m\u001b[0m\n\u001b[0;32m   1066\u001b[0m     \u001b[0mfaces\u001b[0m      \u001b[1;33m=\u001b[0m \u001b[0mprep_faces\u001b[0m\u001b[1;33m(\u001b[0m\u001b[0mbinBytes\u001b[0m\u001b[1;33m[\u001b[0m\u001b[0mfaceOffset\u001b[0m\u001b[1;33m:\u001b[0m\u001b[0mnodeOffset\u001b[0m\u001b[1;33m]\u001b[0m\u001b[1;33m,\u001b[0m \u001b[0mversion\u001b[0m\u001b[1;33m)\u001b[0m\u001b[1;33m\u001b[0m\u001b[1;33m\u001b[0m\u001b[0m\n\u001b[1;32m-> 1067\u001b[1;33m     \u001b[0mfaceRefs\u001b[0m  \u001b[1;33m=\u001b[0m \u001b[0mprep_face_refs\u001b[0m\u001b[1;33m(\u001b[0m\u001b[0mbinBytes\u001b[0m\u001b[1;33m[\u001b[0m\u001b[0mnodeOffset\u001b[0m\u001b[1;33m:\u001b[0m\u001b[1;33m]\u001b[0m\u001b[1;33m)\u001b[0m \u001b[1;31m# Is this not to much?\u001b[0m\u001b[1;33m\u001b[0m\u001b[1;33m\u001b[0m\u001b[0m\n\u001b[0m\u001b[0;32m   1068\u001b[0m \u001b[1;33m\u001b[0m\u001b[0m\n\u001b[0;32m   1069\u001b[0m     \u001b[0mprint\u001b[0m\u001b[1;33m(\u001b[0m\u001b[1;34m\"LOCALS\"\u001b[0m\u001b[1;33m,\u001b[0m \u001b[1;34m\"=\"\u001b[0m\u001b[1;33m*\u001b[0m\u001b[1;36m20\u001b[0m\u001b[1;33m)\u001b[0m\u001b[1;33m\u001b[0m\u001b[1;33m\u001b[0m\u001b[0m\n",
      "\u001b[1;32mD:\\ProgrammeD\\GitHubDesktop\\Repositories\\Fork-of-Nemyax-Blender-Addon-for-static-DarkEngine-models\\DarkBinImportExport\\testing\\BinNodeExtractor.py\u001b[0m in \u001b[0;36mprep_face_refs\u001b[1;34m(nodeBytes)\u001b[0m\n\u001b[0;32m    350\u001b[0m         \u001b[1;32melse\u001b[0m\u001b[1;33m:\u001b[0m\u001b[1;33m\u001b[0m\u001b[1;33m\u001b[0m\u001b[0m\n\u001b[0;32m    351\u001b[0m             \u001b[1;32mreturn\u001b[0m\u001b[1;33m\u001b[0m\u001b[1;33m\u001b[0m\u001b[0m\n\u001b[1;32m--> 352\u001b[1;33m         \u001b[0mfaces\u001b[0m\u001b[1;33m,\u001b[0m \u001b[0mnewNodeBytes\u001b[0m\u001b[1;33m,\u001b[0m \u001b[0mnode\u001b[0m\u001b[1;33m,\u001b[0m \u001b[0mposition\u001b[0m\u001b[1;33m=\u001b[0m \u001b[0mprocess\u001b[0m\u001b[1;33m(\u001b[0m\u001b[0mnodeBytes\u001b[0m\u001b[1;33m,\u001b[0m \u001b[0mposition\u001b[0m\u001b[1;33m)\u001b[0m\u001b[1;33m\u001b[0m\u001b[1;33m\u001b[0m\u001b[0m\n\u001b[0m\u001b[0;32m    353\u001b[0m         \u001b[0mnodeBytes\u001b[0m \u001b[1;33m=\u001b[0m \u001b[0mnewNodeBytes\u001b[0m\u001b[1;33m\u001b[0m\u001b[1;33m\u001b[0m\u001b[0m\n\u001b[0;32m    354\u001b[0m         \u001b[0mfaceRefs\u001b[0m\u001b[1;33m[\u001b[0m\u001b[1;33m-\u001b[0m\u001b[1;36m1\u001b[0m\u001b[1;33m]\u001b[0m\u001b[1;33m.\u001b[0m\u001b[0mextend\u001b[0m\u001b[1;33m(\u001b[0m\u001b[0mfaces\u001b[0m\u001b[1;33m)\u001b[0m\u001b[1;33m\u001b[0m\u001b[1;33m\u001b[0m\u001b[0m\n",
      "\u001b[1;32mD:\\ProgrammeD\\GitHubDesktop\\Repositories\\Fork-of-Nemyax-Blender-Addon-for-static-DarkEngine-models\\DarkBinImportExport\\testing\\BinNodeExtractor.py\u001b[0m in \u001b[0;36mmake_node_split\u001b[1;34m(bs, pos)\u001b[0m\n\u001b[0;32m    314\u001b[0m                       \u001b[0mpgons_after\u001b[0m\u001b[1;33m=\u001b[0m\u001b[0mnum_faces2\u001b[0m\u001b[1;33m,\u001b[0m\u001b[1;33m\u001b[0m\u001b[1;33m\u001b[0m\u001b[0m\n\u001b[0;32m    315\u001b[0m                       \u001b[0mpolys\u001b[0m\u001b[1;33m=\u001b[0m\u001b[0mfaces\u001b[0m\u001b[1;33m,\u001b[0m\u001b[1;33m\u001b[0m\u001b[1;33m\u001b[0m\u001b[0m\n\u001b[1;32m--> 316\u001b[1;33m                       position=pos)\n\u001b[0m\u001b[0;32m    317\u001b[0m \u001b[1;33m\u001b[0m\u001b[0m\n\u001b[0;32m    318\u001b[0m     \u001b[1;32mreturn\u001b[0m \u001b[1;33m(\u001b[0m\u001b[0mfaces\u001b[0m\u001b[1;33m,\u001b[0m\u001b[0mbs\u001b[0m\u001b[1;33m[\u001b[0m\u001b[0mfacesEnd\u001b[0m\u001b[1;33m:\u001b[0m\u001b[1;33m]\u001b[0m\u001b[1;33m,\u001b[0m\u001b[0mnode\u001b[0m\u001b[1;33m,\u001b[0m \u001b[0mpos\u001b[0m\u001b[1;33m+\u001b[0m\u001b[0mfacesEnd\u001b[0m\u001b[1;33m)\u001b[0m\u001b[1;33m\u001b[0m\u001b[1;33m\u001b[0m\u001b[0m\n",
      "\u001b[1;32mD:\\ProgrammeD\\GitHubDesktop\\Repositories\\Fork-of-Nemyax-Blender-Addon-for-static-DarkEngine-models\\DarkBinImportExport\\testing\\NodesImport.py\u001b[0m in \u001b[0;36m__init__\u001b[1;34m(self, **kwargs)\u001b[0m\n\u001b[0;32m     84\u001b[0m     \u001b[0mnd_type\u001b[0m \u001b[1;33m=\u001b[0m \u001b[0mMD_NODE_SPLIT\u001b[0m \u001b[1;31m# 1\u001b[0m\u001b[1;33m\u001b[0m\u001b[1;33m\u001b[0m\u001b[0m\n\u001b[0;32m     85\u001b[0m     \u001b[1;32mdef\u001b[0m \u001b[0m__init__\u001b[0m\u001b[1;33m(\u001b[0m\u001b[0mself\u001b[0m\u001b[1;33m,\u001b[0m \u001b[1;33m**\u001b[0m\u001b[0mkwargs\u001b[0m\u001b[1;33m)\u001b[0m\u001b[1;33m:\u001b[0m\u001b[1;33m\u001b[0m\u001b[1;33m\u001b[0m\u001b[0m\n\u001b[1;32m---> 86\u001b[1;33m         \u001b[1;32mfrom\u001b[0m \u001b[1;33m.\u001b[0m\u001b[0mBinNodeExtractor\u001b[0m \u001b[1;32mimport\u001b[0m \u001b[0mgetNormalByIndex\u001b[0m\u001b[1;33m\u001b[0m\u001b[1;33m\u001b[0m\u001b[0m\n\u001b[0m\u001b[0;32m     87\u001b[0m         \u001b[0mnorm\u001b[0m \u001b[1;33m=\u001b[0m \u001b[0mkwargs\u001b[0m\u001b[1;33m[\u001b[0m\u001b[1;34m\"norm\"\u001b[0m\u001b[1;33m]\u001b[0m\u001b[1;33m\u001b[0m\u001b[1;33m\u001b[0m\u001b[0m\n\u001b[0;32m     88\u001b[0m         \u001b[0mself\u001b[0m\u001b[1;33m.\u001b[0m\u001b[0mnorm_id\u001b[0m \u001b[1;33m=\u001b[0m \u001b[0mnorm\u001b[0m\u001b[1;33m\u001b[0m\u001b[1;33m\u001b[0m\u001b[0m\n",
      "\u001b[1;31mImportError\u001b[0m: attempted relative import with no known parent package"
     ]
    }
   ],
   "source": [
    "import math\n",
    "import re\n",
    "import struct\n",
    "import os\n",
    "from struct import pack, unpack\n",
    "\n",
    "\n",
    "###\n",
    "### Helper classes\n",
    "###\n",
    "\n",
    "from importlib import reload\n",
    "\n",
    "\n",
    "import BinNodeExtractor\n",
    "import NodesImport\n",
    "reload(NodesImport)\n",
    "reload(BinNodeExtractor)\n",
    "\n",
    "from NodesImport import *\n",
    "from BinNodeExtractor import parse_bin, Norms, FaceImported, AIMesh, StaticModel\n",
    "\n",
    "if __name__ == \"__main__\":\n",
    "    # Default test files for empty import.\n",
    "    file_path=r\"C:\\Spiele\\Dark Projekt\\MYMODS\\UPPERMODS\\obj\\RenderTest2.bin\"\n",
    "\n",
    "    file_path=r\"C:\\Spiele\\Dark Projekt\\MYMODS\\UPPERMODS\\obj\\RenderTestbsp2.bin\"\n",
    "    #file_path=r\"C:\\Spiele\\Dark Projekt\\MYMODS\\UPPERMODS\\obj\\tree3div.bin\"\n",
    "\n",
    "    z = input(\"Choose file_path:\")\n",
    "    if z != \"\":\n",
    "        if len(z) < 20: # Assume it's just a file name, look in main folders\n",
    "            file_path = r\"C:\\Spiele\\Dark Projekt\\MYMODS\\UPPERMODS\\obj\\\\\" +z\n",
    "            file_found = os.path.exists(file_path)\n",
    "            if not file_found:\n",
    "                file_path = r\"C:\\Spiele\\Dark Projekt\\MODS\\ep\\obj\\\\\" + z\n",
    "        else:\n",
    "            file_path = z # total file path\n",
    "\n",
    "    binData = open(file_path, 'r+b')\n",
    "    typeID = binData.read(4)\n",
    "    binData.seek(0)\n",
    "    if typeID == b'LGMD':\n",
    "        object_data = parse_bin(binData)\n",
    "    elif typeID == b'LGMM':\n",
    "        object_data = AIMesh.parse_bin(binData)\n",
    "    else:\n",
    "        binData.close()\n",
    "        raise TypeError(\"Wrong format.\")\n",
    "    binData.close()\n",
    "    #for i in range((faceOffset-normOffset)//12):\n",
    "    #    if i not in Norms:\n",
    "    #        Norms[i] = getNormalByIndex(i)\n",
    "    \n",
    "    \n",
    "    ## PRINT NODES ##\n",
    "    #C:\\Spiele\\Dark Projekt\\RES\\ape02.bin\n",
    "    #C:\\Spiele\\Dark Projekt\\RES\\MecSol01.bin"
   ]
  },
  {
   "cell_type": "code",
   "execution_count": 12,
   "metadata": {},
   "outputs": [
    {
     "data": {
      "application/vnd.plotly.v1+json": {
       "config": {
        "plotlyServerURL": "https://plot.ly"
       },
       "data": [
        {
         "hoverinfo": "text",
         "line": {
          "color": "rgb(210,210,210)",
          "width": 1
         },
         "mode": "lines",
         "name": "edge",
         "opacity": 1,
         "text": [],
         "type": "scatter",
         "x": [
          0,
          0,
          null,
          0,
          -0.5,
          null,
          0,
          0.5,
          null,
          -0.5,
          -1,
          null,
          -0.5,
          0,
          null,
          -1,
          -1.5,
          null,
          -1,
          -0.5,
          null
         ],
         "y": [
          8,
          7,
          null,
          7,
          6,
          null,
          7,
          6,
          null,
          6,
          5,
          null,
          6,
          5,
          null,
          5,
          4,
          null,
          5,
          4,
          null
         ]
        },
        {
         "customdata": [
          [
           [
            "(0) Node_sub",
            "",
            "",
            "",
            "",
            ""
           ]
          ],
          [
           [
            "(1) Node_split",
            "main_sub_node",
            "\n5, 4, 3, 2, 1, 0, 11, 10, 9, 8, 7, 6,  || 12, 13, 14, 15, 16, 17",
            "-0.000, -0.000, -1.000",
            "-1.000",
            "0"
           ]
          ],
          [
           [
            "(2) Node_split",
            "_node_behind",
            "\n || 21, 20, 19, 18",
            "-0.000, -0.000, 1.000",
            "-1.000",
            "1"
           ]
          ],
          [
           [
            "(3) Node_split",
            "_node_behind",
            "\n || 22, 23, 24, 25",
            "1.000, -0.000, -0.000",
            "-1.000",
            "3"
           ]
          ],
          [
           [
            "(4) Node_raw",
            "_node_behind",
            "\n31, 30, 33, 32, 28, 26",
            "",
            "",
            ""
           ]
          ],
          [
           [
            "(5) Node_raw",
            "_node_front",
            "\n29, 27",
            "",
            "",
            ""
           ]
          ],
          [
           [
            "(6) Node_raw",
            "_node_front",
            "\n34, 35, 36, 37",
            "",
            "",
            ""
           ]
          ],
          [
           [
            "(7) Node_raw",
            "_node_front",
            "\n41, 40, 39, 38",
            "",
            "",
            ""
           ]
          ]
         ],
         "hovertemplate": "%{customdata[0][0]} - %{customdata[0][1]}<br>-----<br>%{customdata[0][2]}<br>norm(%{customdata[0][5]}):\t%{customdata[0][3]}<br>\td:\t\t%{customdata[0][4]}",
         "marker": {
          "color": "#6175c1",
          "line": {
           "color": "rgb(50,50,50)",
           "width": 1
          },
          "size": 40,
          "symbol": "square"
         },
         "mode": "markers",
         "name": "",
         "opacity": 0.8,
         "text": [
          "",
          "\n5, 4, 3, 2, 1, 0, 11, 10, 9, 8, 7, 6,  || 12, 13, 14, 15, 16, 17",
          "\n || 21, 20, 19, 18",
          "\n || 22, 23, 24, 25",
          "\n31, 30, 33, 32, 28, 26",
          "\n29, 27",
          "\n34, 35, 36, 37",
          "\n41, 40, 39, 38"
         ],
         "type": "scatter",
         "x": [
          0,
          0,
          -0.5,
          -1,
          -1.5,
          -0.5,
          0,
          0.5
         ],
         "y": [
          8,
          7,
          6,
          5,
          4,
          4,
          5,
          6
         ]
        }
       ],
       "layout": {
        "annotations": [
         {
          "font": {
           "color": "rgb(250,250,250)",
           "size": 10
          },
          "showarrow": false,
          "text": "(0) Node_sub",
          "x": 0,
          "xref": "x",
          "y": 8,
          "yref": "y"
         },
         {
          "font": {
           "color": "rgb(250,250,250)",
           "size": 10
          },
          "showarrow": false,
          "text": "(1) Node_split",
          "x": 0,
          "xref": "x",
          "y": 7,
          "yref": "y"
         },
         {
          "font": {
           "color": "rgb(250,250,250)",
           "size": 10
          },
          "showarrow": false,
          "text": "(2) Node_split",
          "x": -0.5,
          "xref": "x",
          "y": 6,
          "yref": "y"
         },
         {
          "font": {
           "color": "rgb(250,250,250)",
           "size": 10
          },
          "showarrow": false,
          "text": "(3) Node_split",
          "x": -1,
          "xref": "x",
          "y": 5,
          "yref": "y"
         },
         {
          "font": {
           "color": "rgb(250,250,250)",
           "size": 10
          },
          "showarrow": false,
          "text": "(4) Node_raw",
          "x": -1.5,
          "xref": "x",
          "y": 4,
          "yref": "y"
         },
         {
          "font": {
           "color": "rgb(250,250,250)",
           "size": 10
          },
          "showarrow": false,
          "text": "(5) Node_raw",
          "x": -0.5,
          "xref": "x",
          "y": 4,
          "yref": "y"
         },
         {
          "font": {
           "color": "rgb(250,250,250)",
           "size": 10
          },
          "showarrow": false,
          "text": "(6) Node_raw",
          "x": 0,
          "xref": "x",
          "y": 5,
          "yref": "y"
         },
         {
          "font": {
           "color": "rgb(250,250,250)",
           "size": 10
          },
          "showarrow": false,
          "text": "(7) Node_raw",
          "x": 0.5,
          "xref": "x",
          "y": 6,
          "yref": "y"
         }
        ],
        "font": {
         "size": 12
        },
        "hovermode": "closest",
        "margin": {
         "b": 85,
         "l": 40,
         "r": 40,
         "t": 100
        },
        "plot_bgcolor": "rgb(0,0,0)",
        "showlegend": false,
        "template": {
         "data": {
          "bar": [
           {
            "error_x": {
             "color": "#2a3f5f"
            },
            "error_y": {
             "color": "#2a3f5f"
            },
            "marker": {
             "line": {
              "color": "#E5ECF6",
              "width": 0.5
             }
            },
            "type": "bar"
           }
          ],
          "barpolar": [
           {
            "marker": {
             "line": {
              "color": "#E5ECF6",
              "width": 0.5
             }
            },
            "type": "barpolar"
           }
          ],
          "carpet": [
           {
            "aaxis": {
             "endlinecolor": "#2a3f5f",
             "gridcolor": "white",
             "linecolor": "white",
             "minorgridcolor": "white",
             "startlinecolor": "#2a3f5f"
            },
            "baxis": {
             "endlinecolor": "#2a3f5f",
             "gridcolor": "white",
             "linecolor": "white",
             "minorgridcolor": "white",
             "startlinecolor": "#2a3f5f"
            },
            "type": "carpet"
           }
          ],
          "choropleth": [
           {
            "colorbar": {
             "outlinewidth": 0,
             "ticks": ""
            },
            "type": "choropleth"
           }
          ],
          "contour": [
           {
            "colorbar": {
             "outlinewidth": 0,
             "ticks": ""
            },
            "colorscale": [
             [
              0,
              "#0d0887"
             ],
             [
              0.1111111111111111,
              "#46039f"
             ],
             [
              0.2222222222222222,
              "#7201a8"
             ],
             [
              0.3333333333333333,
              "#9c179e"
             ],
             [
              0.4444444444444444,
              "#bd3786"
             ],
             [
              0.5555555555555556,
              "#d8576b"
             ],
             [
              0.6666666666666666,
              "#ed7953"
             ],
             [
              0.7777777777777778,
              "#fb9f3a"
             ],
             [
              0.8888888888888888,
              "#fdca26"
             ],
             [
              1,
              "#f0f921"
             ]
            ],
            "type": "contour"
           }
          ],
          "contourcarpet": [
           {
            "colorbar": {
             "outlinewidth": 0,
             "ticks": ""
            },
            "type": "contourcarpet"
           }
          ],
          "heatmap": [
           {
            "colorbar": {
             "outlinewidth": 0,
             "ticks": ""
            },
            "colorscale": [
             [
              0,
              "#0d0887"
             ],
             [
              0.1111111111111111,
              "#46039f"
             ],
             [
              0.2222222222222222,
              "#7201a8"
             ],
             [
              0.3333333333333333,
              "#9c179e"
             ],
             [
              0.4444444444444444,
              "#bd3786"
             ],
             [
              0.5555555555555556,
              "#d8576b"
             ],
             [
              0.6666666666666666,
              "#ed7953"
             ],
             [
              0.7777777777777778,
              "#fb9f3a"
             ],
             [
              0.8888888888888888,
              "#fdca26"
             ],
             [
              1,
              "#f0f921"
             ]
            ],
            "type": "heatmap"
           }
          ],
          "heatmapgl": [
           {
            "colorbar": {
             "outlinewidth": 0,
             "ticks": ""
            },
            "colorscale": [
             [
              0,
              "#0d0887"
             ],
             [
              0.1111111111111111,
              "#46039f"
             ],
             [
              0.2222222222222222,
              "#7201a8"
             ],
             [
              0.3333333333333333,
              "#9c179e"
             ],
             [
              0.4444444444444444,
              "#bd3786"
             ],
             [
              0.5555555555555556,
              "#d8576b"
             ],
             [
              0.6666666666666666,
              "#ed7953"
             ],
             [
              0.7777777777777778,
              "#fb9f3a"
             ],
             [
              0.8888888888888888,
              "#fdca26"
             ],
             [
              1,
              "#f0f921"
             ]
            ],
            "type": "heatmapgl"
           }
          ],
          "histogram": [
           {
            "marker": {
             "colorbar": {
              "outlinewidth": 0,
              "ticks": ""
             }
            },
            "type": "histogram"
           }
          ],
          "histogram2d": [
           {
            "colorbar": {
             "outlinewidth": 0,
             "ticks": ""
            },
            "colorscale": [
             [
              0,
              "#0d0887"
             ],
             [
              0.1111111111111111,
              "#46039f"
             ],
             [
              0.2222222222222222,
              "#7201a8"
             ],
             [
              0.3333333333333333,
              "#9c179e"
             ],
             [
              0.4444444444444444,
              "#bd3786"
             ],
             [
              0.5555555555555556,
              "#d8576b"
             ],
             [
              0.6666666666666666,
              "#ed7953"
             ],
             [
              0.7777777777777778,
              "#fb9f3a"
             ],
             [
              0.8888888888888888,
              "#fdca26"
             ],
             [
              1,
              "#f0f921"
             ]
            ],
            "type": "histogram2d"
           }
          ],
          "histogram2dcontour": [
           {
            "colorbar": {
             "outlinewidth": 0,
             "ticks": ""
            },
            "colorscale": [
             [
              0,
              "#0d0887"
             ],
             [
              0.1111111111111111,
              "#46039f"
             ],
             [
              0.2222222222222222,
              "#7201a8"
             ],
             [
              0.3333333333333333,
              "#9c179e"
             ],
             [
              0.4444444444444444,
              "#bd3786"
             ],
             [
              0.5555555555555556,
              "#d8576b"
             ],
             [
              0.6666666666666666,
              "#ed7953"
             ],
             [
              0.7777777777777778,
              "#fb9f3a"
             ],
             [
              0.8888888888888888,
              "#fdca26"
             ],
             [
              1,
              "#f0f921"
             ]
            ],
            "type": "histogram2dcontour"
           }
          ],
          "mesh3d": [
           {
            "colorbar": {
             "outlinewidth": 0,
             "ticks": ""
            },
            "type": "mesh3d"
           }
          ],
          "parcoords": [
           {
            "line": {
             "colorbar": {
              "outlinewidth": 0,
              "ticks": ""
             }
            },
            "type": "parcoords"
           }
          ],
          "pie": [
           {
            "automargin": true,
            "type": "pie"
           }
          ],
          "scatter": [
           {
            "marker": {
             "colorbar": {
              "outlinewidth": 0,
              "ticks": ""
             }
            },
            "type": "scatter"
           }
          ],
          "scatter3d": [
           {
            "line": {
             "colorbar": {
              "outlinewidth": 0,
              "ticks": ""
             }
            },
            "marker": {
             "colorbar": {
              "outlinewidth": 0,
              "ticks": ""
             }
            },
            "type": "scatter3d"
           }
          ],
          "scattercarpet": [
           {
            "marker": {
             "colorbar": {
              "outlinewidth": 0,
              "ticks": ""
             }
            },
            "type": "scattercarpet"
           }
          ],
          "scattergeo": [
           {
            "marker": {
             "colorbar": {
              "outlinewidth": 0,
              "ticks": ""
             }
            },
            "type": "scattergeo"
           }
          ],
          "scattergl": [
           {
            "marker": {
             "colorbar": {
              "outlinewidth": 0,
              "ticks": ""
             }
            },
            "type": "scattergl"
           }
          ],
          "scattermapbox": [
           {
            "marker": {
             "colorbar": {
              "outlinewidth": 0,
              "ticks": ""
             }
            },
            "type": "scattermapbox"
           }
          ],
          "scatterpolar": [
           {
            "marker": {
             "colorbar": {
              "outlinewidth": 0,
              "ticks": ""
             }
            },
            "type": "scatterpolar"
           }
          ],
          "scatterpolargl": [
           {
            "marker": {
             "colorbar": {
              "outlinewidth": 0,
              "ticks": ""
             }
            },
            "type": "scatterpolargl"
           }
          ],
          "scatterternary": [
           {
            "marker": {
             "colorbar": {
              "outlinewidth": 0,
              "ticks": ""
             }
            },
            "type": "scatterternary"
           }
          ],
          "surface": [
           {
            "colorbar": {
             "outlinewidth": 0,
             "ticks": ""
            },
            "colorscale": [
             [
              0,
              "#0d0887"
             ],
             [
              0.1111111111111111,
              "#46039f"
             ],
             [
              0.2222222222222222,
              "#7201a8"
             ],
             [
              0.3333333333333333,
              "#9c179e"
             ],
             [
              0.4444444444444444,
              "#bd3786"
             ],
             [
              0.5555555555555556,
              "#d8576b"
             ],
             [
              0.6666666666666666,
              "#ed7953"
             ],
             [
              0.7777777777777778,
              "#fb9f3a"
             ],
             [
              0.8888888888888888,
              "#fdca26"
             ],
             [
              1,
              "#f0f921"
             ]
            ],
            "type": "surface"
           }
          ],
          "table": [
           {
            "cells": {
             "fill": {
              "color": "#EBF0F8"
             },
             "line": {
              "color": "white"
             }
            },
            "header": {
             "fill": {
              "color": "#C8D4E3"
             },
             "line": {
              "color": "white"
             }
            },
            "type": "table"
           }
          ]
         },
         "layout": {
          "annotationdefaults": {
           "arrowcolor": "#2a3f5f",
           "arrowhead": 0,
           "arrowwidth": 1
          },
          "coloraxis": {
           "colorbar": {
            "outlinewidth": 0,
            "ticks": ""
           }
          },
          "colorscale": {
           "diverging": [
            [
             0,
             "#8e0152"
            ],
            [
             0.1,
             "#c51b7d"
            ],
            [
             0.2,
             "#de77ae"
            ],
            [
             0.3,
             "#f1b6da"
            ],
            [
             0.4,
             "#fde0ef"
            ],
            [
             0.5,
             "#f7f7f7"
            ],
            [
             0.6,
             "#e6f5d0"
            ],
            [
             0.7,
             "#b8e186"
            ],
            [
             0.8,
             "#7fbc41"
            ],
            [
             0.9,
             "#4d9221"
            ],
            [
             1,
             "#276419"
            ]
           ],
           "sequential": [
            [
             0,
             "#0d0887"
            ],
            [
             0.1111111111111111,
             "#46039f"
            ],
            [
             0.2222222222222222,
             "#7201a8"
            ],
            [
             0.3333333333333333,
             "#9c179e"
            ],
            [
             0.4444444444444444,
             "#bd3786"
            ],
            [
             0.5555555555555556,
             "#d8576b"
            ],
            [
             0.6666666666666666,
             "#ed7953"
            ],
            [
             0.7777777777777778,
             "#fb9f3a"
            ],
            [
             0.8888888888888888,
             "#fdca26"
            ],
            [
             1,
             "#f0f921"
            ]
           ],
           "sequentialminus": [
            [
             0,
             "#0d0887"
            ],
            [
             0.1111111111111111,
             "#46039f"
            ],
            [
             0.2222222222222222,
             "#7201a8"
            ],
            [
             0.3333333333333333,
             "#9c179e"
            ],
            [
             0.4444444444444444,
             "#bd3786"
            ],
            [
             0.5555555555555556,
             "#d8576b"
            ],
            [
             0.6666666666666666,
             "#ed7953"
            ],
            [
             0.7777777777777778,
             "#fb9f3a"
            ],
            [
             0.8888888888888888,
             "#fdca26"
            ],
            [
             1,
             "#f0f921"
            ]
           ]
          },
          "colorway": [
           "#636efa",
           "#EF553B",
           "#00cc96",
           "#ab63fa",
           "#FFA15A",
           "#19d3f3",
           "#FF6692",
           "#B6E880",
           "#FF97FF",
           "#FECB52"
          ],
          "font": {
           "color": "#2a3f5f"
          },
          "geo": {
           "bgcolor": "white",
           "lakecolor": "white",
           "landcolor": "#E5ECF6",
           "showlakes": true,
           "showland": true,
           "subunitcolor": "white"
          },
          "hoverlabel": {
           "align": "left"
          },
          "hovermode": "closest",
          "mapbox": {
           "style": "light"
          },
          "paper_bgcolor": "white",
          "plot_bgcolor": "#E5ECF6",
          "polar": {
           "angularaxis": {
            "gridcolor": "white",
            "linecolor": "white",
            "ticks": ""
           },
           "bgcolor": "#E5ECF6",
           "radialaxis": {
            "gridcolor": "white",
            "linecolor": "white",
            "ticks": ""
           }
          },
          "scene": {
           "xaxis": {
            "backgroundcolor": "#E5ECF6",
            "gridcolor": "white",
            "gridwidth": 2,
            "linecolor": "white",
            "showbackground": true,
            "ticks": "",
            "zerolinecolor": "white"
           },
           "yaxis": {
            "backgroundcolor": "#E5ECF6",
            "gridcolor": "white",
            "gridwidth": 2,
            "linecolor": "white",
            "showbackground": true,
            "ticks": "",
            "zerolinecolor": "white"
           },
           "zaxis": {
            "backgroundcolor": "#E5ECF6",
            "gridcolor": "white",
            "gridwidth": 2,
            "linecolor": "white",
            "showbackground": true,
            "ticks": "",
            "zerolinecolor": "white"
           }
          },
          "shapedefaults": {
           "line": {
            "color": "#2a3f5f"
           }
          },
          "ternary": {
           "aaxis": {
            "gridcolor": "white",
            "linecolor": "white",
            "ticks": ""
           },
           "baxis": {
            "gridcolor": "white",
            "linecolor": "white",
            "ticks": ""
           },
           "bgcolor": "#E5ECF6",
           "caxis": {
            "gridcolor": "white",
            "linecolor": "white",
            "ticks": ""
           }
          },
          "title": {
           "x": 0.05
          },
          "xaxis": {
           "automargin": true,
           "gridcolor": "white",
           "linecolor": "white",
           "ticks": "",
           "title": {
            "standoff": 15
           },
           "zerolinecolor": "white",
           "zerolinewidth": 2
          },
          "yaxis": {
           "automargin": true,
           "gridcolor": "white",
           "linecolor": "white",
           "ticks": "",
           "title": {
            "standoff": 15
           },
           "zerolinecolor": "white",
           "zerolinewidth": 2
          }
         }
        },
        "title": {
         "text": "C:\\Spiele\\Dark Projekt\\MYMODS\\UPPERMODS\\obj\\RenderTestbsp2.bin"
        },
        "xaxis": {
         "showgrid": false,
         "showline": false,
         "showticklabels": false,
         "zeroline": false
        },
        "yaxis": {
         "showgrid": false,
         "showline": false,
         "showticklabels": false,
         "zeroline": false
        }
       }
      },
      "text/html": [
       "<div>                            <div id=\"9c28c188-315b-412c-8cb8-7dea5d55b034\" class=\"plotly-graph-div\" style=\"height:525px; width:100%;\"></div>            <script type=\"text/javascript\">                require([\"plotly\"], function(Plotly) {                    window.PLOTLYENV=window.PLOTLYENV || {};                                    if (document.getElementById(\"9c28c188-315b-412c-8cb8-7dea5d55b034\")) {                    Plotly.newPlot(                        \"9c28c188-315b-412c-8cb8-7dea5d55b034\",                        [{\"hoverinfo\": \"text\", \"line\": {\"color\": \"rgb(210,210,210)\", \"width\": 1}, \"mode\": \"lines\", \"name\": \"edge\", \"opacity\": 1, \"text\": [], \"type\": \"scatter\", \"x\": [0.0, 0.0, null, 0.0, -0.5, null, 0.0, 0.5, null, -0.5, -1.0, null, -0.5, 0.0, null, -1.0, -1.5, null, -1.0, -0.5, null], \"y\": [8.0, 7.0, null, 7.0, 6.0, null, 7.0, 6.0, null, 6.0, 5.0, null, 6.0, 5.0, null, 5.0, 4.0, null, 5.0, 4.0, null]}, {\"customdata\": [[[\"(0) Node_sub\", \"\", \"\", \"\", \"\", \"\"]], [[\"(1) Node_split\", \"main_sub_node\", \"\\n5, 4, 3, 2, 1, 0, 11, 10, 9, 8, 7, 6,  || 12, 13, 14, 15, 16, 17\", \"-0.000, -0.000, -1.000\", \"-1.000\", \"0\"]], [[\"(2) Node_split\", \"_node_behind\", \"\\n || 21, 20, 19, 18\", \"-0.000, -0.000, 1.000\", \"-1.000\", \"1\"]], [[\"(3) Node_split\", \"_node_behind\", \"\\n || 22, 23, 24, 25\", \"1.000, -0.000, -0.000\", \"-1.000\", \"3\"]], [[\"(4) Node_raw\", \"_node_behind\", \"\\n31, 30, 33, 32, 28, 26\", \"\", \"\", \"\"]], [[\"(5) Node_raw\", \"_node_front\", \"\\n29, 27\", \"\", \"\", \"\"]], [[\"(6) Node_raw\", \"_node_front\", \"\\n34, 35, 36, 37\", \"\", \"\", \"\"]], [[\"(7) Node_raw\", \"_node_front\", \"\\n41, 40, 39, 38\", \"\", \"\", \"\"]]], \"hovertemplate\": \"%{customdata[0][0]} - %{customdata[0][1]}<br>-----<br>%{customdata[0][2]}<br>norm(%{customdata[0][5]}):\\t%{customdata[0][3]}<br>\\td:\\t\\t%{customdata[0][4]}\", \"marker\": {\"color\": \"#6175c1\", \"line\": {\"color\": \"rgb(50,50,50)\", \"width\": 1}, \"size\": 40, \"symbol\": \"square\"}, \"mode\": \"markers\", \"name\": \"\", \"opacity\": 0.8, \"text\": [\"\", \"\\n5, 4, 3, 2, 1, 0, 11, 10, 9, 8, 7, 6,  || 12, 13, 14, 15, 16, 17\", \"\\n || 21, 20, 19, 18\", \"\\n || 22, 23, 24, 25\", \"\\n31, 30, 33, 32, 28, 26\", \"\\n29, 27\", \"\\n34, 35, 36, 37\", \"\\n41, 40, 39, 38\"], \"type\": \"scatter\", \"x\": [0.0, 0.0, -0.5, -1.0, -1.5, -0.5, 0.0, 0.5], \"y\": [8.0, 7.0, 6.0, 5.0, 4.0, 4.0, 5.0, 6.0]}],                        {\"annotations\": [{\"font\": {\"color\": \"rgb(250,250,250)\", \"size\": 10}, \"showarrow\": false, \"text\": \"(0) Node_sub\", \"x\": 0.0, \"xref\": \"x\", \"y\": 8.0, \"yref\": \"y\"}, {\"font\": {\"color\": \"rgb(250,250,250)\", \"size\": 10}, \"showarrow\": false, \"text\": \"(1) Node_split\", \"x\": 0.0, \"xref\": \"x\", \"y\": 7.0, \"yref\": \"y\"}, {\"font\": {\"color\": \"rgb(250,250,250)\", \"size\": 10}, \"showarrow\": false, \"text\": \"(2) Node_split\", \"x\": -0.5, \"xref\": \"x\", \"y\": 6.0, \"yref\": \"y\"}, {\"font\": {\"color\": \"rgb(250,250,250)\", \"size\": 10}, \"showarrow\": false, \"text\": \"(3) Node_split\", \"x\": -1.0, \"xref\": \"x\", \"y\": 5.0, \"yref\": \"y\"}, {\"font\": {\"color\": \"rgb(250,250,250)\", \"size\": 10}, \"showarrow\": false, \"text\": \"(4) Node_raw\", \"x\": -1.5, \"xref\": \"x\", \"y\": 4.0, \"yref\": \"y\"}, {\"font\": {\"color\": \"rgb(250,250,250)\", \"size\": 10}, \"showarrow\": false, \"text\": \"(5) Node_raw\", \"x\": -0.5, \"xref\": \"x\", \"y\": 4.0, \"yref\": \"y\"}, {\"font\": {\"color\": \"rgb(250,250,250)\", \"size\": 10}, \"showarrow\": false, \"text\": \"(6) Node_raw\", \"x\": 0.0, \"xref\": \"x\", \"y\": 5.0, \"yref\": \"y\"}, {\"font\": {\"color\": \"rgb(250,250,250)\", \"size\": 10}, \"showarrow\": false, \"text\": \"(7) Node_raw\", \"x\": 0.5, \"xref\": \"x\", \"y\": 6.0, \"yref\": \"y\"}], \"font\": {\"size\": 12}, \"hovermode\": \"closest\", \"margin\": {\"b\": 85, \"l\": 40, \"r\": 40, \"t\": 100}, \"plot_bgcolor\": \"rgb(0,0,0)\", \"showlegend\": false, \"template\": {\"data\": {\"bar\": [{\"error_x\": {\"color\": \"#2a3f5f\"}, \"error_y\": {\"color\": \"#2a3f5f\"}, \"marker\": {\"line\": {\"color\": \"#E5ECF6\", \"width\": 0.5}}, \"type\": \"bar\"}], \"barpolar\": [{\"marker\": {\"line\": {\"color\": \"#E5ECF6\", \"width\": 0.5}}, \"type\": \"barpolar\"}], \"carpet\": [{\"aaxis\": {\"endlinecolor\": \"#2a3f5f\", \"gridcolor\": \"white\", \"linecolor\": \"white\", \"minorgridcolor\": \"white\", \"startlinecolor\": \"#2a3f5f\"}, \"baxis\": {\"endlinecolor\": \"#2a3f5f\", \"gridcolor\": \"white\", \"linecolor\": \"white\", \"minorgridcolor\": \"white\", \"startlinecolor\": \"#2a3f5f\"}, \"type\": \"carpet\"}], \"choropleth\": [{\"colorbar\": {\"outlinewidth\": 0, \"ticks\": \"\"}, \"type\": \"choropleth\"}], \"contour\": [{\"colorbar\": {\"outlinewidth\": 0, \"ticks\": \"\"}, \"colorscale\": [[0.0, \"#0d0887\"], [0.1111111111111111, \"#46039f\"], [0.2222222222222222, \"#7201a8\"], [0.3333333333333333, \"#9c179e\"], [0.4444444444444444, \"#bd3786\"], [0.5555555555555556, \"#d8576b\"], [0.6666666666666666, \"#ed7953\"], [0.7777777777777778, \"#fb9f3a\"], [0.8888888888888888, \"#fdca26\"], [1.0, \"#f0f921\"]], \"type\": \"contour\"}], \"contourcarpet\": [{\"colorbar\": {\"outlinewidth\": 0, \"ticks\": \"\"}, \"type\": \"contourcarpet\"}], \"heatmap\": [{\"colorbar\": {\"outlinewidth\": 0, \"ticks\": \"\"}, \"colorscale\": [[0.0, \"#0d0887\"], [0.1111111111111111, \"#46039f\"], [0.2222222222222222, \"#7201a8\"], [0.3333333333333333, \"#9c179e\"], [0.4444444444444444, \"#bd3786\"], [0.5555555555555556, \"#d8576b\"], [0.6666666666666666, \"#ed7953\"], [0.7777777777777778, \"#fb9f3a\"], [0.8888888888888888, \"#fdca26\"], [1.0, \"#f0f921\"]], \"type\": \"heatmap\"}], \"heatmapgl\": [{\"colorbar\": {\"outlinewidth\": 0, \"ticks\": \"\"}, \"colorscale\": [[0.0, \"#0d0887\"], [0.1111111111111111, \"#46039f\"], [0.2222222222222222, \"#7201a8\"], [0.3333333333333333, \"#9c179e\"], [0.4444444444444444, \"#bd3786\"], [0.5555555555555556, \"#d8576b\"], [0.6666666666666666, \"#ed7953\"], [0.7777777777777778, \"#fb9f3a\"], [0.8888888888888888, \"#fdca26\"], [1.0, \"#f0f921\"]], \"type\": \"heatmapgl\"}], \"histogram\": [{\"marker\": {\"colorbar\": {\"outlinewidth\": 0, \"ticks\": \"\"}}, \"type\": \"histogram\"}], \"histogram2d\": [{\"colorbar\": {\"outlinewidth\": 0, \"ticks\": \"\"}, \"colorscale\": [[0.0, \"#0d0887\"], [0.1111111111111111, \"#46039f\"], [0.2222222222222222, \"#7201a8\"], [0.3333333333333333, \"#9c179e\"], [0.4444444444444444, \"#bd3786\"], [0.5555555555555556, \"#d8576b\"], [0.6666666666666666, \"#ed7953\"], [0.7777777777777778, \"#fb9f3a\"], [0.8888888888888888, \"#fdca26\"], [1.0, \"#f0f921\"]], \"type\": \"histogram2d\"}], \"histogram2dcontour\": [{\"colorbar\": {\"outlinewidth\": 0, \"ticks\": \"\"}, \"colorscale\": [[0.0, \"#0d0887\"], [0.1111111111111111, \"#46039f\"], [0.2222222222222222, \"#7201a8\"], [0.3333333333333333, \"#9c179e\"], [0.4444444444444444, \"#bd3786\"], [0.5555555555555556, \"#d8576b\"], [0.6666666666666666, \"#ed7953\"], [0.7777777777777778, \"#fb9f3a\"], [0.8888888888888888, \"#fdca26\"], [1.0, \"#f0f921\"]], \"type\": \"histogram2dcontour\"}], \"mesh3d\": [{\"colorbar\": {\"outlinewidth\": 0, \"ticks\": \"\"}, \"type\": \"mesh3d\"}], \"parcoords\": [{\"line\": {\"colorbar\": {\"outlinewidth\": 0, \"ticks\": \"\"}}, \"type\": \"parcoords\"}], \"pie\": [{\"automargin\": true, \"type\": \"pie\"}], \"scatter\": [{\"marker\": {\"colorbar\": {\"outlinewidth\": 0, \"ticks\": \"\"}}, \"type\": \"scatter\"}], \"scatter3d\": [{\"line\": {\"colorbar\": {\"outlinewidth\": 0, \"ticks\": \"\"}}, \"marker\": {\"colorbar\": {\"outlinewidth\": 0, \"ticks\": \"\"}}, \"type\": \"scatter3d\"}], \"scattercarpet\": [{\"marker\": {\"colorbar\": {\"outlinewidth\": 0, \"ticks\": \"\"}}, \"type\": \"scattercarpet\"}], \"scattergeo\": [{\"marker\": {\"colorbar\": {\"outlinewidth\": 0, \"ticks\": \"\"}}, \"type\": \"scattergeo\"}], \"scattergl\": [{\"marker\": {\"colorbar\": {\"outlinewidth\": 0, \"ticks\": \"\"}}, \"type\": \"scattergl\"}], \"scattermapbox\": [{\"marker\": {\"colorbar\": {\"outlinewidth\": 0, \"ticks\": \"\"}}, \"type\": \"scattermapbox\"}], \"scatterpolar\": [{\"marker\": {\"colorbar\": {\"outlinewidth\": 0, \"ticks\": \"\"}}, \"type\": \"scatterpolar\"}], \"scatterpolargl\": [{\"marker\": {\"colorbar\": {\"outlinewidth\": 0, \"ticks\": \"\"}}, \"type\": \"scatterpolargl\"}], \"scatterternary\": [{\"marker\": {\"colorbar\": {\"outlinewidth\": 0, \"ticks\": \"\"}}, \"type\": \"scatterternary\"}], \"surface\": [{\"colorbar\": {\"outlinewidth\": 0, \"ticks\": \"\"}, \"colorscale\": [[0.0, \"#0d0887\"], [0.1111111111111111, \"#46039f\"], [0.2222222222222222, \"#7201a8\"], [0.3333333333333333, \"#9c179e\"], [0.4444444444444444, \"#bd3786\"], [0.5555555555555556, \"#d8576b\"], [0.6666666666666666, \"#ed7953\"], [0.7777777777777778, \"#fb9f3a\"], [0.8888888888888888, \"#fdca26\"], [1.0, \"#f0f921\"]], \"type\": \"surface\"}], \"table\": [{\"cells\": {\"fill\": {\"color\": \"#EBF0F8\"}, \"line\": {\"color\": \"white\"}}, \"header\": {\"fill\": {\"color\": \"#C8D4E3\"}, \"line\": {\"color\": \"white\"}}, \"type\": \"table\"}]}, \"layout\": {\"annotationdefaults\": {\"arrowcolor\": \"#2a3f5f\", \"arrowhead\": 0, \"arrowwidth\": 1}, \"coloraxis\": {\"colorbar\": {\"outlinewidth\": 0, \"ticks\": \"\"}}, \"colorscale\": {\"diverging\": [[0, \"#8e0152\"], [0.1, \"#c51b7d\"], [0.2, \"#de77ae\"], [0.3, \"#f1b6da\"], [0.4, \"#fde0ef\"], [0.5, \"#f7f7f7\"], [0.6, \"#e6f5d0\"], [0.7, \"#b8e186\"], [0.8, \"#7fbc41\"], [0.9, \"#4d9221\"], [1, \"#276419\"]], \"sequential\": [[0.0, \"#0d0887\"], [0.1111111111111111, \"#46039f\"], [0.2222222222222222, \"#7201a8\"], [0.3333333333333333, \"#9c179e\"], [0.4444444444444444, \"#bd3786\"], [0.5555555555555556, \"#d8576b\"], [0.6666666666666666, \"#ed7953\"], [0.7777777777777778, \"#fb9f3a\"], [0.8888888888888888, \"#fdca26\"], [1.0, \"#f0f921\"]], \"sequentialminus\": [[0.0, \"#0d0887\"], [0.1111111111111111, \"#46039f\"], [0.2222222222222222, \"#7201a8\"], [0.3333333333333333, \"#9c179e\"], [0.4444444444444444, \"#bd3786\"], [0.5555555555555556, \"#d8576b\"], [0.6666666666666666, \"#ed7953\"], [0.7777777777777778, \"#fb9f3a\"], [0.8888888888888888, \"#fdca26\"], [1.0, \"#f0f921\"]]}, \"colorway\": [\"#636efa\", \"#EF553B\", \"#00cc96\", \"#ab63fa\", \"#FFA15A\", \"#19d3f3\", \"#FF6692\", \"#B6E880\", \"#FF97FF\", \"#FECB52\"], \"font\": {\"color\": \"#2a3f5f\"}, \"geo\": {\"bgcolor\": \"white\", \"lakecolor\": \"white\", \"landcolor\": \"#E5ECF6\", \"showlakes\": true, \"showland\": true, \"subunitcolor\": \"white\"}, \"hoverlabel\": {\"align\": \"left\"}, \"hovermode\": \"closest\", \"mapbox\": {\"style\": \"light\"}, \"paper_bgcolor\": \"white\", \"plot_bgcolor\": \"#E5ECF6\", \"polar\": {\"angularaxis\": {\"gridcolor\": \"white\", \"linecolor\": \"white\", \"ticks\": \"\"}, \"bgcolor\": \"#E5ECF6\", \"radialaxis\": {\"gridcolor\": \"white\", \"linecolor\": \"white\", \"ticks\": \"\"}}, \"scene\": {\"xaxis\": {\"backgroundcolor\": \"#E5ECF6\", \"gridcolor\": \"white\", \"gridwidth\": 2, \"linecolor\": \"white\", \"showbackground\": true, \"ticks\": \"\", \"zerolinecolor\": \"white\"}, \"yaxis\": {\"backgroundcolor\": \"#E5ECF6\", \"gridcolor\": \"white\", \"gridwidth\": 2, \"linecolor\": \"white\", \"showbackground\": true, \"ticks\": \"\", \"zerolinecolor\": \"white\"}, \"zaxis\": {\"backgroundcolor\": \"#E5ECF6\", \"gridcolor\": \"white\", \"gridwidth\": 2, \"linecolor\": \"white\", \"showbackground\": true, \"ticks\": \"\", \"zerolinecolor\": \"white\"}}, \"shapedefaults\": {\"line\": {\"color\": \"#2a3f5f\"}}, \"ternary\": {\"aaxis\": {\"gridcolor\": \"white\", \"linecolor\": \"white\", \"ticks\": \"\"}, \"baxis\": {\"gridcolor\": \"white\", \"linecolor\": \"white\", \"ticks\": \"\"}, \"bgcolor\": \"#E5ECF6\", \"caxis\": {\"gridcolor\": \"white\", \"linecolor\": \"white\", \"ticks\": \"\"}}, \"title\": {\"x\": 0.05}, \"xaxis\": {\"automargin\": true, \"gridcolor\": \"white\", \"linecolor\": \"white\", \"ticks\": \"\", \"title\": {\"standoff\": 15}, \"zerolinecolor\": \"white\", \"zerolinewidth\": 2}, \"yaxis\": {\"automargin\": true, \"gridcolor\": \"white\", \"linecolor\": \"white\", \"ticks\": \"\", \"title\": {\"standoff\": 15}, \"zerolinecolor\": \"white\", \"zerolinewidth\": 2}}}, \"title\": {\"text\": \"C:\\\\Spiele\\\\Dark Projekt\\\\MYMODS\\\\UPPERMODS\\\\obj\\\\RenderTestbsp2.bin\"}, \"xaxis\": {\"showgrid\": false, \"showline\": false, \"showticklabels\": false, \"zeroline\": false}, \"yaxis\": {\"showgrid\": false, \"showline\": false, \"showticklabels\": false, \"zeroline\": false}},                        {\"responsive\": true}                    ).then(function(){\n",
       "                            \n",
       "var gd = document.getElementById('9c28c188-315b-412c-8cb8-7dea5d55b034');\n",
       "var x = new MutationObserver(function (mutations, observer) {{\n",
       "        var display = window.getComputedStyle(gd).display;\n",
       "        if (!display || display === 'none') {{\n",
       "            console.log([gd, 'removed!']);\n",
       "            Plotly.purge(gd);\n",
       "            observer.disconnect();\n",
       "        }}\n",
       "}});\n",
       "\n",
       "// Listen for the removal of the full notebook cells\n",
       "var notebookContainer = gd.closest('#notebook-container');\n",
       "if (notebookContainer) {{\n",
       "    x.observe(notebookContainer, {childList: true});\n",
       "}}\n",
       "\n",
       "// Listen for the clearing of the current output cell\n",
       "var outputEl = gd.closest('.output');\n",
       "if (outputEl) {{\n",
       "    x.observe(outputEl, {childList: true});\n",
       "}}\n",
       "\n",
       "                        })                };                });            </script>        </div>"
      ]
     },
     "metadata": {},
     "output_type": "display_data"
    }
   ],
   "source": [
    "\"\"\"\n",
    "Display the Nodes as a Tree. Needs igraph and pyplot\n",
    "https://igraph.org/\n",
    "https://plotly.com/python/tree-plots/\n",
    "\"\"\"\n",
    "\n",
    "try:\n",
    "    import igraph\n",
    "    import plotly\n",
    "except ImportError:\n",
    "    print(\"igraph or plotly are not installed\", \n",
    "          \"https://igraph.org/\", \n",
    "          \"https://plotly.com/python/tree-plots/\", sep=\"\\n\")\n",
    "else:\n",
    "    import numpy as np\n",
    "\n",
    "    Nodes = Node.AllNodes\n",
    "    Nodes.sort(key=lambda n: n.nd_index)\n",
    "\n",
    "    from igraph import Graph\n",
    "    nr_vertices = len(Nodes)\n",
    "    #G = Graph.Tree(nr_vertices, 2) # 2 stands for children number\n",
    "    G = Graph(n=nr_vertices, directed=True)\n",
    "\n",
    "    #v_label = list(map(str, range(nr_vertices)))\n",
    "    v_label = [(\"(\" + str(n.nd_index) + \") \" + n.__class__.__name__) for n in Node.AllNodes]\n",
    "\n",
    "    def NodeFacesToStr(n):\n",
    "        s = \"\"\n",
    "        if not hasattr(n, \"faces\"):\n",
    "            return s\n",
    "        s += \"\\n\"\n",
    "        if hasattr(n, \"pgons_before\"):\n",
    "            i_max = n.pgons_before\n",
    "        else:\n",
    "            i_max = len(n.faces)\n",
    "        for i in range(i_max):\n",
    "            s+= str(n.faces[i]) +\", \"\n",
    "        if i_max < len(n.faces):\n",
    "            s+= \" || \"\n",
    "            for i in range(i_max, len(n.faces)):\n",
    "                s+= str(n.faces[i]) +\", \"\n",
    "        return s[:-2]\n",
    "\n",
    "\n",
    "    labels = [NodeFacesToStr(n) for n in Nodes]\n",
    "    es_labels = []\n",
    "    nd_types = [\"\"] * nr_vertices\n",
    "    nd_normals = [\"\"] * nr_vertices\n",
    "    nd_normal_ids = [\"\"] * nr_vertices\n",
    "    nd_d = [\"\"] * nr_vertices\n",
    "\n",
    "    for node in Nodes:\n",
    "        for k,v in node.__dict__.items():\n",
    "            if isinstance(v, Node) and k != \"parent\":\n",
    "                G.add_edges([(node.nd_index, v.nd_index)])\n",
    "                nd_types[v.nd_index] = k\n",
    "        if type(node) == Node_split:\n",
    "            nd_normals[node.nd_index] = f\"{node.normal[0]:.3f}, {node.normal[1]:.3f}, {node.normal[2]:.3f}\"\n",
    "            nd_d[node.nd_index] = f\"{node.d:.3f}\"\n",
    "            nd_normal_ids[node.nd_index] =node.norm_id\n",
    "\n",
    "    data = (np.vstack(v_label), \n",
    "            np.vstack(nd_types), \n",
    "            np.vstack(labels),\n",
    "            np.vstack(nd_normals),\n",
    "            np.vstack(nd_d),\n",
    "            np.vstack(nd_normal_ids)\n",
    "           )        \n",
    "\n",
    "    lay = G.layout('rt')\n",
    "\n",
    "    position = {k: lay[k] for k in range(nr_vertices)}\n",
    "    Y = [lay[k][1] for k in range(nr_vertices)]\n",
    "    M = max(Y)\n",
    "\n",
    "    #es = EdgeSeq(G) # sequence of edges\n",
    "    E = [e.tuple for e in G.es] # list of edges\n",
    "    L = len(position)\n",
    "    Xn = [position[k][0] for k in range(L)]\n",
    "    Yn = [2*M-position[k][1] for k in range(L)]\n",
    "    Xe = []\n",
    "    Ye = []\n",
    "    for edge in E:\n",
    "        Xe+=[position[edge[0]][0],position[edge[1]][0], None]\n",
    "        Ye+=[2*M-position[edge[0]][1],2*M-position[edge[1]][1], None]\n",
    "\n",
    "\n",
    "    import plotly.graph_objects as go\n",
    "    fig = go.Figure()\n",
    "    fig.add_trace(go.Scatter(x=Xe,\n",
    "                       y=Ye,\n",
    "                       mode='lines',\n",
    "                        name='edge',\n",
    "                       line=dict(color='rgb(210,210,210)', width=1),\n",
    "                       text=es_labels,\n",
    "                       hoverinfo='text',\n",
    "                       opacity = 1\n",
    "                       ))\n",
    "    fig.add_trace(go.Scatter(x=Xn,\n",
    "                      y=Yn,\n",
    "                      mode='markers',\n",
    "                      name =\"\",\n",
    "                      marker=dict(symbol='square',\n",
    "                                    size=40,\n",
    "                                    color='#6175c1',    #'#DB4551',\n",
    "                                    line=dict(color='rgb(50,50,50)', width=1)\n",
    "                                    ),\n",
    "                      text=labels,\n",
    "                      #hoverinfo='text',\n",
    "                      opacity=0.8,\n",
    "                      customdata = np.dstack(data),\n",
    "                      hovertemplate = \"%{customdata[0][0]} - %{customdata[0][1]}<br>\"\n",
    "                                     +\"-----<br>%{customdata[0][2]}\"\n",
    "                                     +\"<br>norm(%{customdata[0][5]}):\\t%{customdata[0][3]}\"\n",
    "                                     +\"<br>\\td:\\t\\t%{customdata[0][4]}\"\n",
    "                      ))\n",
    "\n",
    "    def make_annotations(pos, text, font_size=10, font_color='rgb(250,250,250)'):\n",
    "        L=len(pos)\n",
    "        if len(text)!=L:\n",
    "            raise ValueError('The lists pos and text must have the same len')\n",
    "        annotations = []\n",
    "        for k in range(L):\n",
    "            annotations.append(\n",
    "                dict(\n",
    "                    text=v_label[k], # or replace labels with a different list for the text within the circle\n",
    "                    x=pos[k][0], y=2*M-position[k][1],\n",
    "                    xref='x1', yref='y1',\n",
    "                    font=dict(color=font_color, size=font_size),\n",
    "                    showarrow=False)\n",
    "            )\n",
    "        return annotations\n",
    "\n",
    "    axis = dict(showline=False, # hide axis line, grid, ticklabels and  title\n",
    "                zeroline=False,\n",
    "                showgrid=False,\n",
    "                showticklabels=False,\n",
    "                )\n",
    "\n",
    "    fig.update_layout(title= file_path,\n",
    "                  annotations=make_annotations(position, v_label),\n",
    "                  font_size=12,\n",
    "                  showlegend=False,\n",
    "                  xaxis=axis,\n",
    "                  yaxis=axis,\n",
    "                  margin=dict(l=40, r=40, b=85, t=100),\n",
    "                  hovermode='closest',\n",
    "                  plot_bgcolor='rgb(0,0,0)'\n",
    "                  )\n",
    "    fig.show()"
   ]
  },
  {
   "cell_type": "code",
   "execution_count": 13,
   "metadata": {},
   "outputs": [
    {
     "name": "stdout",
     "output_type": "stream",
     "text": [
      "0 [0, 11, 12, 18, 19, 20, 21, 'split d=-1.000']\n",
      "1 [1, 10, 13, 22, 23, 24, 25, 'split d=-1.000']\n",
      "2 [2, 6, 17, 27, 32, 37, 38]\n",
      "3 [3, 7, 16, 26, 28, 36, 39, 'split d=-1.000']\n",
      "4 [4, 8, 15, 29, 33, 35, 40]\n",
      "5 [5, 9, 14, 30, 31, 34, 41]\n"
     ]
    }
   ],
   "source": [
    "for id, faces in Norms.items():\n",
    "    print(id, faces)"
   ]
  },
  {
   "cell_type": "code",
   "execution_count": null,
   "metadata": {},
   "outputs": [],
   "source": []
  },
  {
   "cell_type": "code",
   "execution_count": 14,
   "metadata": {},
   "outputs": [
    {
     "name": "stdout",
     "output_type": "stream",
     "text": [
      "(0.0, 0.0, -1.0)       d: -7.0:  [12]\n",
      "(0.0, 0.0, 1.0)        d: -7.0:  [13]\n",
      "(-1.0, 0.0, 0.0)       d: -7.0:  [14]\n",
      "(0.0, -1.0, 0.0)       d: -7.0:  [15]\n",
      "(1.0, 0.0, 0.0)        d: -7.0:  [16]\n",
      "(0.0, 1.0, 0.0)        d: -7.0:  [17]\n",
      "(0.0, 1.0, 0.0)        d: -1.0:  [6, 27, 32, 37, 38]\n",
      "(1.0, 0.0, 0.0)        d: -1.0:  [7, 26, 28, 36, 39]\n",
      "(0.0, -1.0, 0.0)       d: -1.0:  [8, 29, 33, 35, 40]\n",
      "(-1.0, 0.0, 0.0)       d: -1.0:  [9, 30, 31, 34, 41]\n",
      "(0.0, 0.0, 1.0)        d: -1.0:  [10, 22, 23, 24, 25]\n",
      "(0.0, 0.0, -1.0)       d: -1.0:  [11, 18, 19, 20, 21]\n",
      "(0.0, 0.0, -1.0)       d: 5.0:  [0]\n",
      "(0.0, 0.0, 1.0)        d: 5.0:  [1]\n",
      "(0.0, 1.0, 0.0)        d: 5.0:  [2]\n",
      "(1.0, 0.0, 0.0)        d: 5.0:  [3]\n",
      "(0.0, -1.0, 0.0)       d: 5.0:  [4]\n",
      "(-1.0, 0.0, 0.0)       d: 5.0:  [5]\n"
     ]
    }
   ],
   "source": [
    "# Coplanar faces need heavy rounding\n",
    "\n",
    "keys = list(FaceImported.coplanar.keys())\n",
    "keys.sort(key=lambda k: k[3])\n",
    "\n",
    "for k in keys:\n",
    "    print(f\"{str(k[:3]):<22} d: {str(k[3])}: \", FaceImported.coplanar[k])"
   ]
  }
 ],
 "metadata": {
  "kernelspec": {
   "display_name": "Python 3",
   "language": "python",
   "name": "python3"
  },
  "language_info": {
   "codemirror_mode": {
    "name": "ipython",
    "version": 3
   },
   "file_extension": ".py",
   "mimetype": "text/x-python",
   "name": "python",
   "nbconvert_exporter": "python",
   "pygments_lexer": "ipython3",
   "version": "3.7.7"
  }
 },
 "nbformat": 4,
 "nbformat_minor": 4
}
